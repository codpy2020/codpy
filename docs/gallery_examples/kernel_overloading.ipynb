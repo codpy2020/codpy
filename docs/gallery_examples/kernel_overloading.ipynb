{
  "cells": [
    {
      "cell_type": "markdown",
      "metadata": {},
      "source": [
        "\n# Kernel Overloading Example\n\nThis example demonstrates kernel overloading using CodPy.\n"
      ]
    },
    {
      "cell_type": "code",
      "execution_count": null,
      "metadata": {
        "collapsed": false
      },
      "outputs": [],
      "source": [
        "# import libraries\nimport numpy as np\nfrom codpydll import *\n\nimport codpy.core as core\n\n\n# define the class\nclass my_kernel(core.cd.kernel):\n    # An example of overloading codpy kernel with a user-defined expression.\n\n    def __init__(self, **kwargs):\n        core.cd.kernel.__init__(self)\n        self.bandwidth_ = float(kwargs.get(\"bandwidth\", 1.0))\n\n    @staticmethod\n    def create(kwargs={}):\n        return my_kernel(**kwargs)\n\n    @staticmethod\n    def register():\n        cd.kernel.register(\"my_kernel\", my_kernel.create)\n\n    def k(self, x, y):\n        out = np.linalg.norm((x - y) * self.bandwidth_)\n        return out * out * 0.5\n\n    def grad(self, x, y):\n        return y * self.bandwidth_"
      ]
    },
    {
      "cell_type": "markdown",
      "metadata": {},
      "source": [
        "Generate data for the kernel.\n\n"
      ]
    },
    {
      "cell_type": "code",
      "execution_count": null,
      "metadata": {
        "collapsed": false
      },
      "outputs": [],
      "source": [
        "x, y = np.random.randn(3, 2), np.random.randn(3, 2)"
      ]
    },
    {
      "cell_type": "markdown",
      "metadata": {},
      "source": [
        "Create a kernel object and display the result.\n\n"
      ]
    },
    {
      "cell_type": "code",
      "execution_count": null,
      "metadata": {
        "collapsed": false
      },
      "outputs": [],
      "source": [
        "my_kernel_ = my_kernel.create()\nresult_1 = my_kernel_.k(x[0], y[0])\nprint(\"Result 1:\", result_1)"
      ]
    },
    {
      "cell_type": "markdown",
      "metadata": {},
      "source": [
        "Set the kernel and display the next result.\n\n"
      ]
    },
    {
      "cell_type": "code",
      "execution_count": null,
      "metadata": {
        "collapsed": false
      },
      "outputs": [],
      "source": [
        "my_kernel.set_kernel_ptr(my_kernel_)\nmy_kernel_ptr = core.kernel_interface.get_kernel_ptr()\nresult_2 = my_kernel_.k(x[0], y[0])\nprint(\"Result 2:\", result_2)"
      ]
    },
    {
      "cell_type": "markdown",
      "metadata": {},
      "source": [
        "Compute the Gram matrix and display it.\n\n"
      ]
    },
    {
      "cell_type": "code",
      "execution_count": null,
      "metadata": {
        "collapsed": false
      },
      "outputs": [],
      "source": [
        "gram_matrix = core.op.Knm(x, y)\nprint(\"Gram Matrix:\", gram_matrix)"
      ]
    },
    {
      "cell_type": "markdown",
      "metadata": {},
      "source": [
        "Register the kernel (no output for this step).\n\n"
      ]
    },
    {
      "cell_type": "code",
      "execution_count": null,
      "metadata": {
        "collapsed": false
      },
      "outputs": [],
      "source": [
        "my_kernel.register()\nmy_kernel_ptr = core.factories.get_kernel_factory()[\"my_kernel\"]({\"bandwidth\": \"2.\"})\n\n\n# !!!!!!!! a corriger\n# print(my_kernel_ptr.k(x[0], y[0]))\n# my_kernel.set_kernel_ptr(my_kernel_ptr)\n# print(core.op.Knm(x, y))"
      ]
    }
  ],
  "metadata": {
    "kernelspec": {
      "display_name": "Python 3",
      "language": "python",
      "name": "python3"
    },
    "language_info": {
      "codemirror_mode": {
        "name": "ipython",
        "version": 3
      },
      "file_extension": ".py",
      "mimetype": "text/x-python",
      "name": "python",
      "nbconvert_exporter": "python",
      "pygments_lexer": "ipython3",
      "version": "3.9.7"
    }
  },
  "nbformat": 4,
  "nbformat_minor": 0
}